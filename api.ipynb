{
 "cells": [
  {
   "cell_type": "code",
   "execution_count": 3,
   "id": "4350e497",
   "metadata": {},
   "outputs": [
    {
     "name": "stdout",
     "output_type": "stream",
     "text": [
      "start api read application\n",
      "<Response [200]>\n",
      "Unlike dogs, cats do not have a sweet tooth. Scientists believe this is due to a mutation in a key taste receptor.\n"
     ]
    }
   ],
   "source": [
    "print('start api read application')\n",
    "\n",
    "import requests\n",
    "\n",
    "paginaresults = requests.get('https://catfact.ninja/facts')\n",
    "print(paginaresults)\n",
    "\n",
    "feitjes = paginaresults.json()\n",
    "\n",
    "eerstefeitje = feitjes[\"data\"][0][\"fact\"]\n",
    "\n",
    "print(eerstefeitje)\n"
   ]
  },
  {
   "cell_type": "code",
   "execution_count": null,
   "id": "1264d634",
   "metadata": {},
   "outputs": [],
   "source": []
  }
 ],
 "metadata": {
  "kernelspec": {
   "display_name": "Python 3 (ipykernel)",
   "language": "python",
   "name": "python3"
  },
  "language_info": {
   "codemirror_mode": {
    "name": "ipython",
    "version": 3
   },
   "file_extension": ".py",
   "mimetype": "text/x-python",
   "name": "python",
   "nbconvert_exporter": "python",
   "pygments_lexer": "ipython3",
   "version": "3.11.5"
  }
 },
 "nbformat": 4,
 "nbformat_minor": 5
}
